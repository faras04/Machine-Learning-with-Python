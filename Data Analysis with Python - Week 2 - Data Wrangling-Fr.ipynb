{
 "cells": [
  {
   "cell_type": "markdown",
   "metadata": {},
   "source": [
    "\n",
    "<h1 align=center><font size=5>Data Analysis with Python</font></h1>"
   ]
  },
  {
   "cell_type": "markdown",
   "metadata": {
    "lang": "en"
   },
   "source": [
    "<h1>Data Wrangling</h1>"
   ]
  },
  {
   "cell_type": "markdown",
   "metadata": {
    "lang": "fr"
   },
   "source": [
    "<h5>Des données brutes à l’analyse : Le Data Wrangling, aussi appelé Préparation de Données en Self-Service, est le processus qui permet à partir des données brutes de les découvrir, structurer, nettoyer, enrichir, valider et de publier les résultats dans un format adapté à l’analyse des données.</5>"
   ]
  },
  {
   "cell_type": "markdown",
   "metadata": {
    "lang": "fr"
   },
   "source": [
    "<h3>Bienvenue! </h3>\n",
    "\n",
    "À la fin de ce cahier, vous aurez appris les bases du Data Wrangling!"
   ]
  },
  {
   "cell_type": "markdown",
   "metadata": {
    "lang": "fr"
   },
   "source": [
    "<h2>Table de content</h2>\n",
    "\n",
    "<div class=\"alert alert-block alert-info\" style=\"margin-top: 20px\">\n",
    "<ul>\n",
    "    <li><a href=\"#identify_handle_missing_values\">Identifier et gérer les valeurs manquantes</a>\n",
    "        <ul>\n",
    "            <li><a href=\"#identify_missing_values\">Identifier les valeurs manquantes</a></li>\n",
    "            <li><a href=\"#deal_missing_values\">Deal avec valeurs manquantes</a></li>\n",
    "            <li><a href=\"#correct_data_format\">Formulaire correct des donnéesat</a></li>\n",
    "        </ul>\n",
    "    </li>\n",
    "    <li><a href=\"#data_standardization\">Standardisation des données</a></li>\n",
    "    <li><a href=\"#data_normalization\">Normalisation des données (centrage / mise à l'échelle) </a></li>\n",
    "    <li><a href=\"#binning\">Binning</a></li>\n",
    "    <li><a href=\"#indicator\">Variable d'indicateur</a></li>\n",
    "</ul>\n",
    "    \n",
    "Temps estimé nécessaire: undefined min</strong>\n",
    "</div>\n",
    " \n",
    "<hr>"
   ]
  },
  {
   "cell_type": "markdown",
   "metadata": {
    "lang": "fr"
   },
   "source": [
    "<h2> À quoi sert le Data Wrangling? </h2>"
   ]
  },
  {
   "cell_type": "markdown",
   "metadata": {
    "lang": "en"
   },
   "source": [
    "Data Wrangling is the process of converting data from the initial format to a format that may be better for analysis."
   ]
  },
  {
   "cell_type": "markdown",
   "metadata": {
    "lang": "fr"
   },
   "source": [
    "Le Data Wrangling est le processus de conversion des données du format initial vers un format qui peut être meilleur pour l'analyse."
   ]
  },
  {
   "cell_type": "markdown",
   "metadata": {
    "lang": "fr"
   },
   "source": [
    "<h3>Quel est le taux de consommation de carburant (L / 100k) de la voiture diesel? </h3>"
   ]
  },
  {
   "cell_type": "markdown",
   "metadata": {},
   "source": [
    "<h4>Import pandas</h4> "
   ]
  },
  {
   "cell_type": "code",
   "execution_count": 3,
   "metadata": {},
   "outputs": [
    {
     "ename": "ModuleNotFoundError",
     "evalue": "No module named 'matplotlib.pylab'",
     "output_type": "error",
     "traceback": [
      "\u001b[1;31m---------------------------------------------------------------------------\u001b[0m",
      "\u001b[1;31mModuleNotFoundError\u001b[0m                       Traceback (most recent call last)",
      "\u001b[1;32m<ipython-input-3-6e3c7c03b0ee>\u001b[0m in \u001b[0;36m<module>\u001b[1;34m\u001b[0m\n\u001b[0;32m      1\u001b[0m \u001b[1;32mimport\u001b[0m \u001b[0mpandas\u001b[0m \u001b[1;32mas\u001b[0m \u001b[0mpd\u001b[0m\u001b[1;33m\u001b[0m\u001b[1;33m\u001b[0m\u001b[0m\n\u001b[1;32m----> 2\u001b[1;33m \u001b[1;32mimport\u001b[0m \u001b[0mmatplotlib\u001b[0m\u001b[1;33m.\u001b[0m\u001b[0mpylab\u001b[0m \u001b[1;32mas\u001b[0m \u001b[0mplt\u001b[0m\u001b[1;33m\u001b[0m\u001b[1;33m\u001b[0m\u001b[0m\n\u001b[0m",
      "\u001b[1;31mModuleNotFoundError\u001b[0m: No module named 'matplotlib.pylab'"
     ]
    }
   ],
   "source": [
    "import pandas as pd\n",
    "import matplotlib.pylab as plt"
   ]
  },
  {
   "cell_type": "markdown",
   "metadata": {
    "lang": "fr"
   },
   "source": [
    "<h2> Lecture de l'ensemble de données à partir de l'URL et ajout des en-têtes associés.</h2>"
   ]
  },
  {
   "cell_type": "markdown",
   "metadata": {},
   "source": [
    "URL of the dataset"
   ]
  },
  {
   "cell_type": "markdown",
   "metadata": {},
   "source": [
    "This dataset was hosted on IBM Cloud object click <a href=\"https://cocl.us/corsera_da0101en_notebook_bottom\">HERE</a> for free storage "
   ]
  },
  {
   "cell_type": "code",
   "execution_count": null,
   "metadata": {},
   "outputs": [],
   "source": [
    "filename = \"https://s3-api.us-geo.objectstorage.softlayer.net/cf-courses-data/CognitiveClass/DA0101EN/auto.csv\""
   ]
  },
  {
   "cell_type": "markdown",
   "metadata": {
    "lang": "fr"
   },
   "source": [
    "Liste Python <b>headers</b> contenant le nom des en-têtes"
   ]
  },
  {
   "cell_type": "code",
   "execution_count": null,
   "metadata": {},
   "outputs": [],
   "source": [
    "headers = [\"symboling\",\"normalized-losses\",\"make\",\"fuel-type\",\"aspiration\", \"num-of-doors\",\"body-style\",\n",
    "         \"drive-wheels\",\"engine-location\",\"wheel-base\", \"length\",\"width\",\"height\",\"curb-weight\",\"engine-type\",\n",
    "         \"num-of-cylinders\", \"engine-size\",\"fuel-system\",\"bore\",\"stroke\",\"compression-ratio\",\"horsepower\",\n",
    "         \"peak-rpm\",\"city-mpg\",\"highway-mpg\",\"price\"]"
   ]
  },
  {
   "cell_type": "markdown",
   "metadata": {
    "lang": "fr"
   },
   "source": [
    "Utilisez la méthode Pandas <b>read_csv()</b> pour charger les données à partir de l'adresse Web. Définissez le paramètre \"names\" égal aux \"headers\" de la liste Python."
   ]
  },
  {
   "cell_type": "code",
   "execution_count": null,
   "metadata": {},
   "outputs": [],
   "source": [
    "df = pd.read_csv(filename, names = headers)"
   ]
  },
  {
   "cell_type": "code",
   "execution_count": null,
   "metadata": {},
   "outputs": [],
   "source": [
    "# To see what the data set looks like, we'll use the head() method.\n",
    "df.head()"
   ]
  },
  {
   "cell_type": "markdown",
   "metadata": {
    "lang": "fr"
   },
   "source": [
    "Comme nous pouvons le voir, plusieurs points d'interrogation sont apparus dans le dataframe; ce sont des valeurs manquantes qui peuvent entraver notre analyse plus approfondie.\n",
    "<div> Alors, comment identifier toutes ces valeurs manquantes et les gérer? </div>\n",
    "<b> Comment travailler avec des données manquantes? </b>\n",
    "Étapes pour travailler avec des données manquantes:\n",
    "<ol>\n",
    "    <li>identifier les données manquantes</li>\n",
    "    <li>deal avec des données manquantes</li>\n",
    "    <li>correct données format</li>\n",
    "</ol>"
   ]
  },
  {
   "cell_type": "markdown",
   "metadata": {
    "lang": "fr"
   },
   "source": [
    "<h2 id=\"identify_handle_missing_values\">Identifier et gérer les valeurs manquantes</h2>\n",
    "\n",
    "\n",
    "<h3 id=\"identify_missing_values\">Identifier les valeurs manquantes</h3>\n",
    "<h4>Convert \"?\" à NaN</h4>\n",
    "Dans le jeu de données de voiture, les données manquantes sont accompagnées du point d'interrogation \"?\".\n",
    "Nous remplaçons \"?\" avec NaN (Not a Number), qui est le marqueur de valeur manquante par défaut de Python, pour des raisons de vitesse de calcul et de commodité. Ici, nous utilisons la fonction:\n",
    " <pre>.replace (A, B, inplace = True) </pre>\n",
    "remplacer A par B"
   ]
  },
  {
   "cell_type": "code",
   "execution_count": null,
   "metadata": {},
   "outputs": [],
   "source": [
    "import numpy as np\n",
    "\n",
    "# replace \"?\" to NaN\n",
    "df.replace(\"?\", np.nan, inplace = True)\n",
    "df.head(5)"
   ]
  },
  {
   "cell_type": "markdown",
   "metadata": {
    "lang": "fr"
   },
   "source": [
    "dentify_missing_values\n",
    "\n",
    "<h4>Évaluation des données manquantes</h4>\n",
    "\n",
    "Les valeurs manquantes sont converties à la valeur par défaut de Python. Nous utilisons les fonctions intégrées de Python pour identifier ces valeurs manquantes. Il existe deux méthodes pour détecter les données manquantes:\n",
    "<ol>\n",
    "    <li><b>.isnull()</b></li>\n",
    "    <li><b>.notnull()</b></li>\n",
    "</ol>\n",
    "La sortie est une valeur booléenne indiquant si la valeur transmise à l'argument est en fait des données manquantes."
   ]
  },
  {
   "cell_type": "code",
   "execution_count": null,
   "metadata": {},
   "outputs": [],
   "source": [
    "missing_data = df.isnull()\n",
    "missing_data.head(5)"
   ]
  },
  {
   "cell_type": "markdown",
   "metadata": {
    "lang": "fr"
   },
   "source": [
    "\"True\" signifie valeur manquante, tandis que \"False\" signifie valeur non manquante."
   ]
  },
  {
   "cell_type": "markdown",
   "metadata": {
    "lang": "fr"
   },
   "source": [
    "<h4>Count valeurs manquantes dans chaque colonne</h4>\n",
    "<p>\n",
    "En utilisant une boucle for en Python, nous pouvons rapidement déterminer le nombre de valeurs manquantes dans chaque colonne. Comme mentionné ci-dessus, \"True\" représente une valeur manquante, \"False\" signifie que la valeur est présente dans l'ensemble de données. Dans le corps de la boucle for, la méthode \".value_counts ()\" compte le nombre de valeurs \"True\".\n",
    "</p>"
   ]
  },
  {
   "cell_type": "code",
   "execution_count": null,
   "metadata": {},
   "outputs": [],
   "source": [
    "for column in missing_data.columns.values.tolist():\n",
    "    print(column)\n",
    "    print (missing_data[column].value_counts())\n",
    "    print(\"\")    "
   ]
  },
  {
   "cell_type": "markdown",
   "metadata": {
    "lang": "fr"
   },
   "source": [
    "Sur la base du résumé ci-dessus, chaque colonne contient 205 lignes de données, sept colonnes contenant des données manquantes:\n",
    "<ol>\n",
    "    <li> \"normalized-loss\": 41 données manquantes</li>\n",
    "    <li> \"nombre de portes\": 2 données manquantes</li>\n",
    "    <li> \"bore\": 4 données manquantes</li>\n",
    "    <li> \"stroke\": 4 données manquantes</li>\n",
    "    <li> \"horsepower\": 2 données manquantes</li>\n",
    "    <li> \"peak-rpm\": 2 données manquantes</li>\n",
    "    <li> \"price\": 4 données manquantes</li>\n",
    "</ol>"
   ]
  },
  {
   "cell_type": "markdown",
   "metadata": {
    "lang": "fr"
   },
   "source": [
    "<h3 id = \"deal_missing_values\"> Traiter les données manquantes </h3>\n",
    "<b> Comment gérer les données manquantes? </b>\n",
    "\n",
    "<ol>\n",
    "     <li> supprimer des données <br>\n",
    "         a. supprimer toute la ligne <br>\n",
    "         b. supprimer toute la colonne\n",
    "     </li>\n",
    "     <li> remplacer les données <br>\n",
    "         a. remplacez-le par des moyens <br>\n",
    "         b. remplacez-le par la fréquence <br>\n",
    "         c. le remplacer en fonction d'autres fonctions\n",
    "     </li>\n",
    "</ol>"
   ]
  },
  {
   "cell_type": "markdown",
   "metadata": {
    "lang": "fr"
   },
   "source": [
    "Des colonnes entières ne doivent être supprimées que si la plupart des entrées de la colonne sont vides. Dans notre ensemble de données, aucune des colonnes n'est suffisamment vide pour être supprimée entièrement.\n",
    "Nous avons une certaine liberté dans le choix de la méthode de remplacement des données; cependant, certaines méthodes peuvent sembler plus raisonnables que d'autres. Nous appliquerons chaque méthode à de nombreuses colonnes différentes:\n",
    "\n",
    "<b> Remplacez-le par la moyenne (mean):</b>\n",
    "<ul>\n",
    "    <li> \"normalized-loss\": 41 données manquantes, remplacez-les par mean</li>\n",
    "    <li> \"stroke\": 4 données manquantes, remplacez-les par mean</li>\n",
    "    <li> \"bore\": 4 données manquantes, remplacez-les par mean</li>\n",
    "    <li> \"horsepower\": 2 données manquantes, remplacez-les par mean</li>\n",
    "    <li> \"peak-rpm\": 2 données manquantes, remplacez-les par mean</li>\n",
    "</ul>\n",
    "\n",
    "<b>Remplacez-le par fréquences:</b>\n",
    "<ul>\n",
    "    <li> \"nombre-de-portes\": 2 données manquantes, remplacez-les par \"quatre\".\n",
    "        <ul>\n",
    "            <li>Raison: 84% des berlines sont à quatre portes. Étant donné que quatre portes sont les plus fréquentes, il est fort probable qu'elles se produisent</li>\n",
    "        </ul>\n",
    "    </li>\n",
    "</ul>\n",
    "\n",
    "<b>Supprimer toute la ligne:</b>\n",
    "<ul>\n",
    "    <li> \"price\": 4 données manquantes, supprimez simplement toute la ligne\n",
    "        <ul>\n",
    "            <li>Reason: le prix est ce que nous voulons prédire. Toute saisie de données sans données de prix ne peut pas être utilisée pour la prédiction; donc toute ligne maintenant sans données de prix n'est pas utile à us</li>\n",
    "        </ul>\n",
    "    </li>\n",
    "</ul>"
   ]
  },
  {
   "cell_type": "markdown",
   "metadata": {
    "lang": "fr"
   },
   "source": [
    "<h4>Calculer la moyenne de la colonne </h4>"
   ]
  },
  {
   "cell_type": "code",
   "execution_count": null,
   "metadata": {},
   "outputs": [],
   "source": [
    "avg_norm_loss = df[\"normalized-losses\"].astype(\"float\").mean(axis=0)\n",
    "print(\"Average of normalized-losses:\", avg_norm_loss)"
   ]
  },
  {
   "cell_type": "markdown",
   "metadata": {
    "lang": "fr"
   },
   "source": [
    "<h4>Remplacer \"NaN\" par la valeur moyenne dans la colonne \"pertes normalisées \"</h4>"
   ]
  },
  {
   "cell_type": "code",
   "execution_count": null,
   "metadata": {},
   "outputs": [],
   "source": [
    "df[\"normalized-losses\"].replace(np.nan, avg_norm_loss, inplace=True)"
   ]
  },
  {
   "cell_type": "markdown",
   "metadata": {
    "lang": "fr"
   },
   "source": [
    "<h4>Calculer la valeur moyenne de la colonne 'bore'</h4>"
   ]
  },
  {
   "cell_type": "code",
   "execution_count": null,
   "metadata": {},
   "outputs": [],
   "source": [
    "avg_bore=df['bore'].astype('float').mean(axis=0)\n",
    "print(\"Average of bore:\", avg_bore)"
   ]
  },
  {
   "cell_type": "markdown",
   "metadata": {
    "lang": "fr"
   },
   "source": [
    "<h4>Remplacer NaN par valeur moyenne</h4>"
   ]
  },
  {
   "cell_type": "code",
   "execution_count": null,
   "metadata": {},
   "outputs": [],
   "source": [
    "df[\"bore\"].replace(np.nan, avg_bore, inplace=True)"
   ]
  },
  {
   "cell_type": "markdown",
   "metadata": {
    "lang": "fr"
   },
   "source": [
    "<div class=\"alert alert-danger alertdanger\" style=\"margin-top: 20px\">\n",
    "<h1> Question n ° 1: </h1>\n",
    "\n",
    "<b>Selon l'exemple ci-dessus, remplacez NaN dans la colonne \"stroke\" par mean.</b>\n",
    "</div>"
   ]
  },
  {
   "cell_type": "code",
   "execution_count": null,
   "metadata": {},
   "outputs": [],
   "source": [
    "# Write your code below and press Shift+Enter to execute \n",
    "\n",
    "# calculate the mean vaule for \"stroke\" column\n",
    "\n",
    "avg_stroke=df['stroke'].astype('float').mean(axis=0)\n",
    "print(\"Average of stroke:\", avg_stroke)\n",
    "\n",
    "# replace NaN by mean value in \"stroke\" column\n",
    "\n",
    "df[\"stroke\"].replace(np.nan, avg_stroke, inplace=True)"
   ]
  },
  {
   "cell_type": "markdown",
   "metadata": {},
   "source": [
    "Double-click <b>ici</b> pour voir la solution.\n",
    "\n",
    "<!-- The answer is below:\n",
    "\n",
    "# calculate the mean vaule for \"stroke\" column\n",
    "avg_stroke = df[\"stroke\"].astype(\"float\").mean(axis = 0)\n",
    "print(\"Average of stroke:\", avg_stroke)\n",
    "\n",
    "# replace NaN by mean value in \"stroke\" column\n",
    "df[\"stroke\"].replace(np.nan, avg_stroke, inplace = True)\n",
    "\n",
    "-->\n"
   ]
  },
  {
   "cell_type": "markdown",
   "metadata": {
    "lang": "fr"
   },
   "source": [
    "<h4>Calculez la valeur moyenne de la colonne 'horsepower': </h4>"
   ]
  },
  {
   "cell_type": "code",
   "execution_count": null,
   "metadata": {},
   "outputs": [],
   "source": [
    "avg_horsepower = df['horsepower'].astype('float').mean(axis=0)\n",
    "print(\"Average horsepower:\", avg_horsepower)"
   ]
  },
  {
   "cell_type": "markdown",
   "metadata": {
    "lang": "fr"
   },
   "source": [
    "<h4>Remplacer \"NaN\" par la valeur moyenne: </h4>"
   ]
  },
  {
   "cell_type": "code",
   "execution_count": null,
   "metadata": {},
   "outputs": [],
   "source": [
    "df['horsepower'].replace(np.nan, avg_horsepower, inplace=True)"
   ]
  },
  {
   "cell_type": "markdown",
   "metadata": {
    "lang": "fr"
   },
   "source": [
    "<h4>Calculer la valeur moyenne de la colonne 'peak-rpm': </h4>"
   ]
  },
  {
   "cell_type": "code",
   "execution_count": null,
   "metadata": {},
   "outputs": [],
   "source": [
    "avg_peakrpm=df['peak-rpm'].astype('float').mean(axis=0)\n",
    "print(\"Average peak rpm:\", avg_peakrpm)"
   ]
  },
  {
   "cell_type": "markdown",
   "metadata": {
    "lang": "fr"
   },
   "source": [
    "<h4>Remplacer NaN par la valeur moyenne: </h4>"
   ]
  },
  {
   "cell_type": "code",
   "execution_count": null,
   "metadata": {},
   "outputs": [],
   "source": [
    "df['peak-rpm'].replace(np.nan, avg_peakrpm, inplace=True)"
   ]
  },
  {
   "cell_type": "markdown",
   "metadata": {
    "lang": "fr"
   },
   "source": [
    "Pour voir quelles valeurs sont présentes dans une colonne particulière, nous pouvons utiliser la méthode \".value_counts ()\":"
   ]
  },
  {
   "cell_type": "code",
   "execution_count": null,
   "metadata": {},
   "outputs": [],
   "source": [
    "df['num-of-doors'].value_counts()"
   ]
  },
  {
   "cell_type": "markdown",
   "metadata": {
    "lang": "fr"
   },
   "source": [
    "Nous pouvons voir que quatre portes sont le type le plus courant. Nous pouvons également utiliser la méthode \".idxmax ()\" pour calculer automatiquement pour nous le type le plus courant:"
   ]
  },
  {
   "cell_type": "code",
   "execution_count": null,
   "metadata": {},
   "outputs": [],
   "source": [
    "df['num-of-doors'].value_counts().idxmax()"
   ]
  },
  {
   "cell_type": "markdown",
   "metadata": {
    "lang": "fr"
   },
   "source": [
    "La procédure de remplacement est très similaire à ce que nous avons vu précédemment"
   ]
  },
  {
   "cell_type": "code",
   "execution_count": null,
   "metadata": {},
   "outputs": [],
   "source": [
    "#replace the missing 'num-of-doors' values by the most frequent \n",
    "df[\"num-of-doors\"].replace(np.nan, \"four\", inplace=True)"
   ]
  },
  {
   "cell_type": "markdown",
   "metadata": {
    "lang": "fr"
   },
   "source": [
    "Enfin, supprimons toutes les lignes qui n'ont pas de données de prix:"
   ]
  },
  {
   "cell_type": "code",
   "execution_count": null,
   "metadata": {},
   "outputs": [],
   "source": [
    "# simply drop whole row with NaN in \"price\" column\n",
    "df.dropna(subset=[\"price\"], axis=0, inplace=True)\n",
    "\n",
    "# reset index, because we droped two rows\n",
    "df.reset_index(drop=True, inplace=True)"
   ]
  },
  {
   "cell_type": "code",
   "execution_count": null,
   "metadata": {},
   "outputs": [],
   "source": [
    "df.head()"
   ]
  },
  {
   "cell_type": "markdown",
   "metadata": {
    "lang": "fr"
   },
   "source": [
    "<b>Good!</b> Nous obtenons maintenant l'ensemble de données sans valeurs manquantes."
   ]
  },
  {
   "cell_type": "markdown",
   "metadata": {
    "lang": "fr"
   },
   "source": [
    "<h3 id=\"correct_data_format\">Format correct des données</h3>\n",
    "<b> Nous y sommes presque! </b>\n",
    "<p> La dernière étape du nettoyage des données consiste à vérifier et à s'assurer que toutes les données sont au bon format (int, float, texte ou autre). </p>\n",
    "Dans Pandas, nous utilisons\n",
    "<p><b>.dtype () </b> pour vérifier le type de données</p>\n",
    "<p><b>.astype () </b> pour changer le type de données</p>"
   ]
  },
  {
   "cell_type": "markdown",
   "metadata": {
    "lang": "fr"
   },
   "source": [
    "<h4> Permet de lister les types de données pour chaque colonne</h4>"
   ]
  },
  {
   "cell_type": "code",
   "execution_count": null,
   "metadata": {},
   "outputs": [],
   "source": [
    "df.dtypes"
   ]
  },
  {
   "cell_type": "markdown",
   "metadata": {
    "lang": "fr"
   },
   "source": [
    "<p> Comme nous pouvons le voir ci-dessus, certaines colonnes ne sont pas du type de données correct. Les variables numériques doivent avoir le type «float» ou «int», et les variables avec des chaînes telles que les catégories doivent avoir le type «objet». Par exemple, les variables «bore» et «stroke» sont des valeurs numériques qui décrivent les moteurs, nous devrions donc nous attendre à ce qu'elles soient du type «float» ou «int»; cependant, ils sont affichés sous la forme «objet». Nous devons convertir les types de données dans un format approprié pour chaque colonne en utilisant la méthode \"astype ()\". </p>"
   ]
  },
  {
   "cell_type": "markdown",
   "metadata": {
    "lang": "fr"
   },
   "source": [
    "<h4>Convertir les types de données au format appropriéat</h4>"
   ]
  },
  {
   "cell_type": "code",
   "execution_count": null,
   "metadata": {},
   "outputs": [],
   "source": [
    "df[[\"bore\", \"stroke\"]] = df[[\"bore\", \"stroke\"]].astype(\"float\")\n",
    "df[[\"normalized-losses\"]] = df[[\"normalized-losses\"]].astype(\"int\")\n",
    "df[[\"price\"]] = df[[\"price\"]].astype(\"float\")\n",
    "df[[\"peak-rpm\"]] = df[[\"peak-rpm\"]].astype(\"float\")"
   ]
  },
  {
   "cell_type": "markdown",
   "metadata": {
    "lang": "fr"
   },
   "source": [
    "<h4> Laissez-nous lister les colonnes après la conversion</h4>"
   ]
  },
  {
   "cell_type": "code",
   "execution_count": null,
   "metadata": {},
   "outputs": [],
   "source": [
    "df.dtypes"
   ]
  },
  {
   "cell_type": "markdown",
   "metadata": {
    "lang": "fr"
   },
   "source": [
    "<b>Wonderful!</b>\n",
    "\n",
    "Maintenant, nous obtenons enfin l'ensemble de données nettoyé sans valeurs manquantes et toutes les données dans leur format approprié."
   ]
  },
  {
   "cell_type": "markdown",
   "metadata": {
    "lang": "fr"
   },
   "source": [
    "<h2 id=\"data_standardization\"> Standardisation des données</h2>\n",
    "<p>\n",
    "Les données sont généralement collectées auprès de différentes agences avec différents formats.\n",
    "(La normalisation des données est également un terme pour un type particulier de normalisation des données, où nous soustrayons la moyenne et la divisons par l'écart type)\n",
    "</p>\n",
    "    \n",
    "<b> Qu'est-ce que la normalisation? </b>\n",
    "<p> La normalisation est le processus de transformation des données dans un format commun qui permet au chercheur de faire une comparaison significative.\n",
    "</p>\n",
    "\n",
    "<b> Exemple </b>\n",
    "<p> Transformez le mpg en L / 100 km: </p>\n",
    "<p> Dans notre ensemble de données, les colonnes de consommation de carburant \"city-mpg\" et \"Highway-mpg\" sont représentées par l'unité mpg (miles par gallon). Supposons que nous développons une application dans un pays qui accepte la consommation de carburant avec la norme L / 100 km </p>\n",
    "<p> Nous devrons appliquer <b> transformation de données </b> pour transformer mpg en L / 100km? </p>"
   ]
  },
  {
   "cell_type": "markdown",
   "metadata": {
    "lang": "en"
   },
   "source": [
    "<p>The formula for unit conversion is<p>\n",
    "L/100km = 235 / mpg\n",
    "<p>We can do many mathematical operations directly in Pandas.</p>"
   ]
  },
  {
   "cell_type": "markdown",
   "metadata": {
    "lang": "fr"
   },
   "source": [
    "<p> La formule de conversion d'unité est <p>\n",
    "L / 100 km = 235 / mi / gal\n",
    "<p> Nous pouvons effectuer de nombreuses opérations mathématiques directement dans Pandas. </p>"
   ]
  },
  {
   "cell_type": "code",
   "execution_count": null,
   "metadata": {},
   "outputs": [],
   "source": [
    "df.head()"
   ]
  },
  {
   "cell_type": "code",
   "execution_count": null,
   "metadata": {},
   "outputs": [],
   "source": [
    "# Convert mpg to L/100km by mathematical operation (235 divided by mpg)\n",
    "df['city-L/100km'] = 235/df[\"city-mpg\"]\n",
    "\n",
    "# check your transformed data \n",
    "df.head()"
   ]
  },
  {
   "cell_type": "markdown",
   "metadata": {
    "lang": "fr"
   },
   "source": [
    "<div class = \"alert alert-danger alertdanger\" style = \"margin-top: 20px\">\n",
    "<h1> Question n ° 2: </h1>\n",
    "\n",
    "<b> Selon l'exemple ci-dessus, transformez mpg en L / 100 km dans la colonne \"Highway-mpg\" et changez le nom de la colonne en \"Highway-L / 100km\". </b>\n",
    "</div>\n",
    " \n"
   ]
  },
  {
   "cell_type": "code",
   "execution_count": null,
   "metadata": {},
   "outputs": [],
   "source": [
    "# Write your code below and press Shift+Enter to execute \n",
    "\n",
    "# Convert mpg to L/100km by mathematical operation (235 divided by mpg)\n",
    "df['highway-L/100km'] = 235/df[\"highway-mpg\"]\n",
    "\n",
    "# check your transformed data \n",
    "df.head()"
   ]
  },
  {
   "cell_type": "markdown",
   "metadata": {},
   "source": [
    "Double-click <b>ici</b> pour voir la solution.\n",
    "\n",
    "<!-- The answer is below:\n",
    "\n",
    "# transform mpg to L/100km by mathematical operation (235 divided by mpg)\n",
    "df[\"highway-mpg\"] = 235/df[\"highway-mpg\"]\n",
    "\n",
    "# rename column name from \"highway-mpg\" to \"highway-L/100km\"\n",
    "df.rename(columns={'\"highway-mpg\"':'highway-L/100km'}, inplace=True)\n",
    "\n",
    "# check your transformed data \n",
    "df.head()\n",
    "\n",
    "-->\n"
   ]
  },
  {
   "cell_type": "markdown",
   "metadata": {
    "lang": "fr"
   },
   "source": [
    "<h2 id = \"data_normalization\"> Normalisation des données </h2>\n",
    "\n",
    "<b> Pourquoi la normalisation? </b>\n",
    "<p> La normalisation est le processus de transformation des valeurs de plusieurs variables dans une plage similaire. Les normalisations typiques incluent la mise à l'échelle de la variable pour que la moyenne de la variable soit de 0, la mise à l'échelle de la variable pour que la variance soit de 1, ou la mise à l'échelle de la variable de sorte que les valeurs de la variable varient de 0 à 1\n",
    "</p>\n",
    "\n",
    "<b> Exemple </b>\n",
    "<p> Pour démontrer la normalisation, disons que nous voulons mettre à l'échelle les colonnes \"longueur\", \"largeur\" et \"hauteur\" </p>\n",
    "<p> <b> Cible: </b> aimerait normaliser ces variables afin que leur valeur varie de 0 à 1. </p>\n",
    "<p> <b> Approche: </b> remplacer la valeur d'origine par (valeur d'origine) / (valeur maximale) </p>"
   ]
  },
  {
   "cell_type": "code",
   "execution_count": null,
   "metadata": {},
   "outputs": [],
   "source": [
    "# replace (original value) by (original value)/(maximum value)\n",
    "df['length'] = df['length']/df['length'].max()\n",
    "df['width'] = df['width']/df['width'].max()"
   ]
  },
  {
   "cell_type": "markdown",
   "metadata": {
    "lang": "fr"
   },
   "source": [
    "<div class = \"alert alert-danger alertdanger\" style = \"margin-top: 20px\">\n",
    "<h1> Question n ° 3: </h1>\n",
    "\n",
    "<b> Selon l'exemple ci-dessus, normalisez la colonne \"hauteur\". </b>\n",
    "</div>"
   ]
  },
  {
   "cell_type": "code",
   "execution_count": null,
   "metadata": {},
   "outputs": [],
   "source": [
    "# Write your code below and press Shift+Enter to execute \n",
    "df['height'] = df['height']/df['height'].max()\n",
    "\n",
    "# show the scaled columns\n",
    "df[[\"length\",\"width\",\"height\"]].head()"
   ]
  },
  {
   "cell_type": "markdown",
   "metadata": {},
   "source": [
    "Double-click <b>ici</b> pour voir la solution.\n",
    "\n",
    "<!-- The answer is below:\n",
    "\n",
    "df['height'] = df['height']/df['height'].max() \n",
    "# show the scaled columns\n",
    "df[[\"length\",\"width\",\"height\"]].head()\n",
    "\n",
    "-->"
   ]
  },
  {
   "cell_type": "markdown",
   "metadata": {
    "lang": "en"
   },
   "source": [
    "Here we can see, we've normalized \"length\", \"width\" and \"height\" in the range of [0,1]."
   ]
  },
  {
   "cell_type": "markdown",
   "metadata": {
    "lang": "fr"
   },
   "source": [
    "Ici, nous pouvons voir, nous avons normalisé \"longueur\", \"largeur\" ​​et \"hauteur\" dans la plage de [0,1]."
   ]
  },
  {
   "cell_type": "markdown",
   "metadata": {
    "lang": "fr"
   },
   "source": [
    "<h2 id = \"binning\"> Binning ( groupement des données ) </h2>\n",
    "<b> Pourquoi le binning/ groupement des données ? </b>\n",
    "<p>\n",
    "     Le binning ( groupement des données ) est un processus de transformation de variables numériques continues en «bacs» catégoriels discrets, pour une analyse groupée.\n",
    "</p>\n",
    "\n",
    "<b> Exemple: </b>\n",
    "<p> Dans notre jeu de données, \"horsepower\" est une variable réelle valorisée allant de 48 à 288, elle a 57 valeurs uniques. Et si nous ne nous soucions que de la différence de prix entre les voitures de haute puissance, de puissance moyenne et de faible puissance (3 types)? Pouvons-nous les réorganiser en trois «bacs» pour simplifier l'analyse? </p>\n",
    "\n",
    "<p> Nous utiliserons la méthode Pandas 'cut' pour segmenter la colonne 'horsepower' en 3 bacs </p>"
   ]
  },
  {
   "cell_type": "markdown",
   "metadata": {
    "lang": "fr"
   },
   "source": [
    "<h3>Exemple de regroupement de données dans Pandas</h3>"
   ]
  },
  {
   "cell_type": "markdown",
   "metadata": {
    "lang": "fr"
   },
   "source": [
    "Convertir les données au format correct"
   ]
  },
  {
   "cell_type": "code",
   "execution_count": null,
   "metadata": {},
   "outputs": [],
   "source": [
    "df[\"horsepower\"]=df[\"horsepower\"].astype(int, copy=True)"
   ]
  },
  {
   "cell_type": "markdown",
   "metadata": {
    "lang": "fr"
   },
   "source": [
    "Permet de tracer l'histogramme de la puissance, pour voir à quoi ressemble la distribution de la puissance."
   ]
  },
  {
   "cell_type": "code",
   "execution_count": null,
   "metadata": {},
   "outputs": [],
   "source": [
    "%matplotlib inline\n",
    "import matplotlib as plt\n",
    "from matplotlib import pyplot\n",
    "plt.pyplot.hist(df[\"horsepower\"])\n",
    "\n",
    "# set x/y labels and plot title\n",
    "plt.pyplot.xlabel(\"horsepower\")\n",
    "plt.pyplot.ylabel(\"count\")\n",
    "plt.pyplot.title(\"horsepower bins\")"
   ]
  },
  {
   "cell_type": "markdown",
   "metadata": {
    "lang": "fr"
   },
   "source": [
    "<p> Nous aimerions 3 bins de bande passante de taille égale, donc nous utilisons la fonction <code> linspace (start _value, end_ value, numbers_generated </code> de numpy. </p>\n",
    "<p> Puisque nous voulons inclure la valeur minimale de la puissance, nous voulons définir start_value = min (df [\"horsepower\"]). </p>\n",
    "<p> Puisque nous voulons inclure la valeur maximale de la puissance, nous voulons définir end_value = max (df [\"horsepower\"]). </p>\n",
    "<p> Puisque nous construisons 3 bacs de longueur égale, il devrait y avoir 4 diviseurs, donc nombres_generated = 4. </p>"
   ]
  },
  {
   "cell_type": "markdown",
   "metadata": {
    "lang": "fr"
   },
   "source": [
    "Nous construisons un tableau bin, avec une valeur minimale à une valeur maximale, avec une bande passante calculée ci-dessus. Les bacs seront des valeurs utilisées pour déterminer quand un bac se termine et un autre commence."
   ]
  },
  {
   "cell_type": "code",
   "execution_count": null,
   "metadata": {},
   "outputs": [],
   "source": [
    "bins = np.linspace(min(df[\"horsepower\"]), max(df[\"horsepower\"]), 4)\n",
    "bins"
   ]
  },
  {
   "cell_type": "markdown",
   "metadata": {
    "lang": "fr"
   },
   "source": [
    "Nous définissons les noms de groupe:"
   ]
  },
  {
   "cell_type": "code",
   "execution_count": null,
   "metadata": {},
   "outputs": [],
   "source": [
    "group_names = ['Low', 'Medium', 'High']"
   ]
  },
  {
   "cell_type": "markdown",
   "metadata": {
    "lang": "fr"
   },
   "source": [
    "Nous appliquons la fonction \"cut\" pour déterminer à quoi appartient chaque valeur de \"df ['horsepower']\"."
   ]
  },
  {
   "cell_type": "code",
   "execution_count": null,
   "metadata": {},
   "outputs": [],
   "source": [
    "df['horsepower-binned'] = pd.cut(df['horsepower'], bins, labels=group_names, include_lowest=True )\n",
    "df[['horsepower','horsepower-binned']].head(20)"
   ]
  },
  {
   "cell_type": "markdown",
   "metadata": {
    "lang": "fr"
   },
   "source": [
    "Permet de voir le nombre de véhicules dans chaque bac."
   ]
  },
  {
   "cell_type": "code",
   "execution_count": null,
   "metadata": {},
   "outputs": [],
   "source": [
    "df[\"horsepower-binned\"].value_counts()"
   ]
  },
  {
   "cell_type": "markdown",
   "metadata": {
    "lang": "fr"
   },
   "source": [
    "Permet de tracer la distribution de chaque bac."
   ]
  },
  {
   "cell_type": "code",
   "execution_count": null,
   "metadata": {},
   "outputs": [],
   "source": [
    "%matplotlib inline\n",
    "import matplotlib as plt\n",
    "from matplotlib import pyplot\n",
    "pyplot.bar(group_names, df[\"horsepower-binned\"].value_counts())\n",
    "\n",
    "# set x/y labels and plot title\n",
    "plt.pyplot.xlabel(\"horsepower\")\n",
    "plt.pyplot.ylabel(\"count\")\n",
    "plt.pyplot.title(\"horsepower bins\")"
   ]
  },
  {
   "cell_type": "markdown",
   "metadata": {
    "lang": "fr"
   },
   "source": [
    "<p>\n",
    "     Vérifiez attentivement le cadre de données ci-dessus, vous trouverez que la dernière colonne fournit les bacs pour «puissance» avec 3 catégories («faible», «moyen» et «élevé»).\n",
    "</p>\n",
    "<p>\n",
    "     Nous avons réussi à réduire les intervalles de 57 à 3!\n",
    "</p>\n",
    " \n"
   ]
  },
  {
   "cell_type": "markdown",
   "metadata": {
    "lang": "fr"
   },
   "source": [
    "<h3>Bins visualisation</h3>\n",
    "Normalement, un histogramme est utilisé pour visualiser la distribution des bacs que nous avons créés ci-dessus."
   ]
  },
  {
   "cell_type": "code",
   "execution_count": null,
   "metadata": {},
   "outputs": [],
   "source": [
    "%matplotlib inline\n",
    "import matplotlib as plt\n",
    "from matplotlib import pyplot\n",
    "\n",
    "a = (0,1,2)\n",
    "\n",
    "# draw historgram of attribute \"horsepower\" with bins = 3\n",
    "plt.pyplot.hist(df[\"horsepower\"], bins = 3)\n",
    "\n",
    "# set x/y labels and plot title\n",
    "plt.pyplot.xlabel(\"horsepower\")\n",
    "plt.pyplot.ylabel(\"count\")\n",
    "plt.pyplot.title(\"horsepower bins\")"
   ]
  },
  {
   "cell_type": "markdown",
   "metadata": {
    "lang": "fr"
   },
   "source": [
    "Le graphique ci-dessus montre le résultat du regroupement pour l'attribut «puissance»."
   ]
  },
  {
   "cell_type": "markdown",
   "metadata": {
    "lang": "fr"
   },
   "source": [
    "<h2 id = \"indicateur\"> Variable d'indicateur (ou variable factice) </h2>\n",
    "<b> Qu'est-ce qu'une variable indicatrice? </b>\n",
    "<p>\n",
    "     Une variable indicatrice (ou variable factice) est une variable numérique utilisée pour étiqueter les catégories. Ils sont appelés «mannequins» parce que les nombres eux-mêmes n'ont pas de signification intrinsèque.\n",
    "</p>\n",
    "\n",
    "<b> Pourquoi utilisons-nous des variables indicatrices? </b>\n",
    "<p>\n",
    "     Nous pouvons donc utiliser des variables catégorielles pour l'analyse de régression dans les modules ultérieurs.\n",
    "</p>\n",
    "<b> Exemple </b>\n",
    "<p>\n",
    "     Nous voyons que la colonne «type de carburant» a deux valeurs uniques, «gaz» ou «diesel». La régression ne comprend pas les mots, seulement les nombres. Pour utiliser cet attribut dans l'analyse de régression, nous convertissons le «type de carburant» en variables indicatrices.\n",
    "</p>\n",
    "\n",
    "<p>\n",
    "     Nous utiliserons la méthode du panda 'get_dummies' pour attribuer des valeurs numériques à différentes catégories de type de carburant.\n",
    "</p>"
   ]
  },
  {
   "cell_type": "code",
   "execution_count": null,
   "metadata": {},
   "outputs": [],
   "source": [
    "df.columns"
   ]
  },
  {
   "cell_type": "markdown",
   "metadata": {
    "lang": "en"
   },
   "source": [
    "get indicator variables and assign it to data frame \"dummy_variable_1\" "
   ]
  },
  {
   "cell_type": "markdown",
   "metadata": {
    "lang": "fr"
   },
   "source": [
    "obtenir des variables d'indicateur et l'affecter au bloc de données  \"dummy_variable_1\" "
   ]
  },
  {
   "cell_type": "code",
   "execution_count": null,
   "metadata": {},
   "outputs": [],
   "source": [
    "dummy_variable_1 = pd.get_dummies(df[\"fuel-type\"])\n",
    "dummy_variable_1.head()"
   ]
  },
  {
   "cell_type": "markdown",
   "metadata": {
    "lang": "fr"
   },
   "source": [
    "changer les noms de colonne pour plus de clarté"
   ]
  },
  {
   "cell_type": "code",
   "execution_count": null,
   "metadata": {},
   "outputs": [],
   "source": [
    "dummy_variable_1.rename(columns={'fuel-type-diesel':'gas', 'fuel-type-diesel':'diesel'}, inplace=True)\n",
    "dummy_variable_1.head()"
   ]
  },
  {
   "cell_type": "markdown",
   "metadata": {
    "lang": "fr"
   },
   "source": [
    "Nous avons maintenant la valeur 0 pour représenter «gaz» et 1 pour représenter «diesel» dans la colonne «type de carburant». Nous allons maintenant réinsérer cette colonne dans notre ensemble de données d'origine."
   ]
  },
  {
   "cell_type": "code",
   "execution_count": null,
   "metadata": {},
   "outputs": [],
   "source": [
    "# merge data frame \"df\" and \"dummy_variable_1\" \n",
    "df = pd.concat([df, dummy_variable_1], axis=1)\n",
    "\n",
    "# drop original column \"fuel-type\" from \"df\"\n",
    "df.drop(\"fuel-type\", axis = 1, inplace=True)"
   ]
  },
  {
   "cell_type": "code",
   "execution_count": null,
   "metadata": {},
   "outputs": [],
   "source": [
    "df.head()"
   ]
  },
  {
   "cell_type": "markdown",
   "metadata": {
    "lang": "fr"
   },
   "source": [
    "Les deux dernières colonnes sont désormais la représentation de la variable indicatrice de la variable du type de carburant. Il s'agit désormais de 0 et de 1."
   ]
  },
  {
   "cell_type": "markdown",
   "metadata": {
    "lang": "fr"
   },
   "source": [
    "<div class=\"alert alert-danger alertdanger\" style=\"margin-top: 20px\">\n",
    "<h1> Question n ° 4: </h1>\n",
    "\n",
    "<b> Comme ci-dessus, créez une variable d'indicateur dans la colonne \"aspiration\": \"std\" à 0, tandis que \"turbo\" à 1. </b>\n",
    "</div>"
   ]
  },
  {
   "cell_type": "code",
   "execution_count": null,
   "metadata": {},
   "outputs": [],
   "source": [
    "# Write your code below and press Shift+Enter to execute \n",
    "dummy_variable_2 = pd.get_dummies(df[\"aspiration\"])\n",
    "dummy_variable_2.head()\n",
    "\n",
    "\n",
    "# Change column names\n",
    "dummy_variable_2.rename(columns={'std':'aspiration-std', 'turbo': 'aspiration-turbo'}, inplace=True)\n",
    "dummy_variable_2.head()\n",
    "\n"
   ]
  },
  {
   "cell_type": "markdown",
   "metadata": {},
   "source": [
    "Double-click <b>ici</b> pour voir la solution.\n",
    "\n",
    "<!-- The answer is below:\n",
    "\n",
    "# get indicator variables of aspiration and assign it to data frame \"dummy_variable_2\"\n",
    "dummy_variable_2 = pd.get_dummies(df['aspiration'])\n",
    "\n",
    "# change column names for clarity\n",
    "dummy_variable_2.rename(columns={'std':'aspiration-std', 'turbo': 'aspiration-turbo'}, inplace=True)\n",
    "\n",
    "# show first 5 instances of data frame \"dummy_variable_1\"\n",
    "dummy_variable_2.head()\n",
    "\n",
    "-->"
   ]
  },
  {
   "cell_type": "markdown",
   "metadata": {
    "lang": "fr"
   },
   "source": [
    "<div class=\"alert alert-danger alertdanger\" style=\"margin-top: 20px\">\n",
    "<h1> Question n ° 5: </h1>\n",
    "\n",
    "<b> Fusionner le nouveau dataframe avec le dataframe d'origine, puis supprimer la colonne \"aspiration\" </b>\n",
    "</div>"
   ]
  },
  {
   "cell_type": "code",
   "execution_count": null,
   "metadata": {},
   "outputs": [],
   "source": [
    "# Write your code below and press Shift+Enter to execute \n",
    "\n",
    "# merge data frame \"df\" and \"dummy_variable_1\" \n",
    "df = pd.concat([df, dummy_variable_2], axis=1)\n",
    "\n",
    "# drop original column \"fuel-type\" from \"df\"\n",
    "df.drop(\"aspiration\", axis = 1, inplace=True)\n",
    "\n",
    "df.head()"
   ]
  },
  {
   "cell_type": "markdown",
   "metadata": {},
   "source": [
    "Double-click <b>ici</b> pour voir la solution.\n",
    "\n",
    "<!-- The answer is below:\n",
    "\n",
    "#merge the new dataframe to the original datafram\n",
    "df = pd.concat([df, dummy_variable_2], axis=1)\n",
    "\n",
    "# drop original column \"aspiration\" from \"df\"\n",
    "df.drop('aspiration', axis = 1, inplace=True)\n",
    "\n",
    "-->"
   ]
  },
  {
   "cell_type": "markdown",
   "metadata": {
    "lang": "fr"
   },
   "source": [
    "enregistrer le nouveau csv"
   ]
  },
  {
   "cell_type": "code",
   "execution_count": null,
   "metadata": {},
   "outputs": [],
   "source": [
    "df.to_csv('clean_df.csv')"
   ]
  },
  {
   "cell_type": "markdown",
   "metadata": {
    "lang": "fr"
   },
   "source": [
    "<h1>Merci d'avoir complété ce notebook</h1>"
   ]
  }
 ],
 "metadata": {
  "anaconda-cloud": {},
  "kernelspec": {
   "display_name": "Python 3",
   "language": "python",
   "name": "python3"
  },
  "language_info": {
   "codemirror_mode": {
    "name": "ipython",
    "version": 3
   },
   "file_extension": ".py",
   "mimetype": "text/x-python",
   "name": "python",
   "nbconvert_exporter": "python",
   "pygments_lexer": "ipython3",
   "version": "3.7.7"
  },
  "nbTranslate": {
   "displayLangs": [
    "*"
   ],
   "hotkey": "alt-t",
   "langInMainMenu": true,
   "sourceLang": "en",
   "targetLang": "fr",
   "useGoogleTranslate": true
  }
 },
 "nbformat": 4,
 "nbformat_minor": 2
}
